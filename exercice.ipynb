{
 "cells": [
  {
   "cell_type": "markdown",
   "id": "0364a9e3-7cb7-4aaf-87d3-164729553e8f",
   "metadata": {},
   "source": []
  },
  {
   "cell_type": "markdown",
   "id": "a9643902-7b48-42c5-8a87-5de5dca6c18a",
   "metadata": {},
   "source": [
    "# Mon premier code"
   ]
  },
  {
   "cell_type": "code",
   "execution_count": 2,
   "id": "58d2b9c2-bca0-418c-8ec8-96b96335aa38",
   "metadata": {},
   "outputs": [
    {
     "name": "stdout",
     "output_type": "stream",
     "text": [
      "{'nom': 'valdez', 'age': 21, 'pays': 'France', 'nationnalite': 'Camerounaise'}\n"
     ]
    }
   ],
   "source": [
    "mon_dictionnaire = {}\n",
    "\n",
    "mon_dictionnaire['nom'] = 'valdez'\n",
    "mon_dictionnaire['age'] = 21\n",
    "mon_dictionnaire ['pays'] = 'France'\n",
    "mon_dictionnaire['nationnalite'] = 'Camerounaise'\n",
    "\n",
    "print(mon_dictionnaire)"
   ]
  },
  {
   "cell_type": "code",
   "execution_count": 3,
   "id": "15d3ebc2-028b-4e9a-92df-72f249bd4534",
   "metadata": {},
   "outputs": [
    {
     "name": "stdout",
     "output_type": "stream",
     "text": [
      "valdou\n",
      "[1, 5, 3]\n",
      "[1, 5, 3]\n",
      "[1, 5, 3]\n",
      "8\n",
      "8 + 69 = 77\n",
      "d\n"
     ]
    }
   ],
   "source": [
    "dict = {\"val\": \"valdou\"}\n",
    "for keys in dict:\n",
    "    print(dict[\"val\"])\n",
    "\n",
    "list = [1,5,3]\n",
    "for nombre in list:\n",
    "    print(list)\n",
    "\n",
    "def addition(a,b,c):\n",
    "    print(a+b+c)\n",
    "    return a+b+c \n",
    "sum = addition(1,5,2)\n",
    "\n",
    "import random\n",
    "\n",
    "def addition_aleatoire():\n",
    "    nombre1 = random.randint(1, 100)\n",
    "    nombre2 = random.randint(1, 100)\n",
    "    \n",
    "    somme = nombre1 + nombre2\n",
    "    \n",
    "    print(f\"{nombre1} + {nombre2} = {somme}\")\n",
    "\n",
    "addition_aleatoire()\n",
    "\n",
    "import random\n",
    "\n",
    "ma_liste = [\"a\", \"b\", \"c\", \"d\", \"e\"]\n",
    "\n",
    "\n",
    "element_aleatoire = random.choice(ma_liste)\n",
    "\n",
    "print(element_aleatoire)\n"
   ]
  },
  {
   "cell_type": "code",
   "execution_count": 4,
   "id": "5b217ddb-ceef-421b-be5b-ba0ba0f3df31",
   "metadata": {},
   "outputs": [],
   "source": [
    "import pandas as pd"
   ]
  },
  {
   "cell_type": "code",
   "execution_count": 5,
   "id": "88837ecb-40d2-449c-b173-942ebcf2edc4",
   "metadata": {},
   "outputs": [
    {
     "ename": "AttributeError",
     "evalue": "module 'pandas' has no attribute 'f1'",
     "output_type": "error",
     "traceback": [
      "\u001b[1;31m---------------------------------------------------------------------------\u001b[0m",
      "\u001b[1;31mAttributeError\u001b[0m                            Traceback (most recent call last)",
      "Cell \u001b[1;32mIn[5], line 1\u001b[0m\n\u001b[1;32m----> 1\u001b[0m \u001b[43mpd\u001b[49m\u001b[38;5;241;43m.\u001b[39;49m\u001b[43mf1\u001b[49m()\n",
      "\u001b[1;31mAttributeError\u001b[0m: module 'pandas' has no attribute 'f1'"
     ]
    }
   ],
   "source": [
    "pd.f1()"
   ]
  },
  {
   "cell_type": "code",
   "execution_count": 6,
   "id": "3b8d7c47-a058-4c4b-90dc-e31c99d800c7",
   "metadata": {},
   "outputs": [
    {
     "ename": "SyntaxError",
     "evalue": "(unicode error) 'unicodeescape' codec can't decode bytes in position 2-3: truncated \\UXXXXXXXX escape (706903969.py, line 1)",
     "output_type": "error",
     "traceback": [
      "\u001b[1;36m  Cell \u001b[1;32mIn[6], line 1\u001b[1;36m\u001b[0m\n\u001b[1;33m    pd.read_csv(\"C:\\Users\\PC\\Downloads\"/dataset.css)\u001b[0m\n\u001b[1;37m                                       ^\u001b[0m\n\u001b[1;31mSyntaxError\u001b[0m\u001b[1;31m:\u001b[0m (unicode error) 'unicodeescape' codec can't decode bytes in position 2-3: truncated \\UXXXXXXXX escape\n"
     ]
    }
   ],
   "source": [
    "pd.read_csv(\"C:\\Users\\PC\\Downloads\"/dataset.css)"
   ]
  },
  {
   "cell_type": "code",
   "execution_count": 7,
   "id": "5789820a-68b2-4d0b-a795-be18c5b464ea",
   "metadata": {},
   "outputs": [
    {
     "ename": "SyntaxError",
     "evalue": "(unicode error) 'unicodeescape' codec can't decode bytes in position 2-3: truncated \\UXXXXXXXX escape (3386049791.py, line 1)",
     "output_type": "error",
     "traceback": [
      "\u001b[1;36m  Cell \u001b[1;32mIn[7], line 1\u001b[1;36m\u001b[0m\n\u001b[1;33m    pd.read_csv(r \"C:\\Users\\PC\\Downloads\"/dataset.css)\u001b[0m\n\u001b[1;37m                                         ^\u001b[0m\n\u001b[1;31mSyntaxError\u001b[0m\u001b[1;31m:\u001b[0m (unicode error) 'unicodeescape' codec can't decode bytes in position 2-3: truncated \\UXXXXXXXX escape\n"
     ]
    }
   ],
   "source": [
    "pd.read_csv(r \"C:\\Users\\PC\\Downloads\"/dataset.css)"
   ]
  },
  {
   "cell_type": "code",
   "execution_count": 8,
   "id": "7b85b9f1-b474-4d6c-acf6-bc9d08720d86",
   "metadata": {},
   "outputs": [
    {
     "name": "stdout",
     "output_type": "stream",
     "text": [
      "       FacilityID                                      URL  \\\n",
      "0               1      https://toiletmap.gov.au/facility/1   \n",
      "1               2      https://toiletmap.gov.au/facility/2   \n",
      "2               3      https://toiletmap.gov.au/facility/3   \n",
      "3               4      https://toiletmap.gov.au/facility/4   \n",
      "4               5      https://toiletmap.gov.au/facility/5   \n",
      "...           ...                                      ...   \n",
      "23658       62973  https://toiletmap.gov.au/facility/62973   \n",
      "23659       62974  https://toiletmap.gov.au/facility/62974   \n",
      "23660       62975  https://toiletmap.gov.au/facility/62975   \n",
      "23661       62976  https://toiletmap.gov.au/facility/62976   \n",
      "23662       62977  https://toiletmap.gov.au/facility/62977   \n",
      "\n",
      "                                    Name     FacilityType  \\\n",
      "0                    Sandy Beach Reserve  Park or reserve   \n",
      "1                          Point Reserve  Park or reserve   \n",
      "2                   Success Hill Reserve  Park or reserve   \n",
      "3                        Jubilee Reserve  Park or reserve   \n",
      "4                       Ashfield Reserve  Park or reserve   \n",
      "...                                  ...              ...   \n",
      "23658                      Bowling Green  Park or reserve   \n",
      "23659                     Murray Gardens        Rest area   \n",
      "23660           Glenvale Shopping Centre  Shopping centre   \n",
      "23661  Flagstone Village Shopping Centre  Shopping centre   \n",
      "23662          Bomaderry Shopping Centre  Shopping centre   \n",
      "\n",
      "                         Address1        Town State AddressNote   Latitude  \\\n",
      "0           Lost 15525, West Road  Bassendean    WA         NaN -31.921836   \n",
      "1             Lot 197, North Road  Bassendean    WA         NaN -31.904410   \n",
      "2        Lot 2838, Seventh Avenue  Bassendean    WA         NaN -31.896289   \n",
      "3         Lot 6322, Robinson Road   Eden Hill    WA         NaN -31.891474   \n",
      "4      Lot 12061, 2 Coulston Road    Ashfield    WA         NaN -31.913433   \n",
      "...                           ...         ...   ...         ...        ...   \n",
      "23658              Railway Parade  Parramatta   NSW         NaN -33.813870   \n",
      "23659               George Street  Parramatta   NSW         NaN -33.813129   \n",
      "23660           114 Glenvale Road    Glenvale   QLD         NaN -27.563987   \n",
      "23661                6 Gates Road   Flagstone   QLD         NaN -27.809275   \n",
      "23662         320 Princes Highway   Bomaderry   NSW         NaN -34.843569   \n",
      "\n",
      "        Longitude  ...  Ambulant  Accessible LHTransfer  RHTransfer  \\\n",
      "0      115.950206  ...     False        True      False       False   \n",
      "1      115.960991  ...     False        True      False       False   \n",
      "2      115.955781  ...     False        True      False       False   \n",
      "3      115.940164  ...     False       False      False       False   \n",
      "4      115.936477  ...     False        True      False       False   \n",
      "...           ...  ...       ...         ...        ...         ...   \n",
      "23658  150.996823  ...     False        True      False       False   \n",
      "23659  150.998034  ...     False        True      False       False   \n",
      "23660  151.911458  ...     False        True      False       False   \n",
      "23661  152.949954  ...     False        True      False       False   \n",
      "23662  150.595536  ...     False        True      False       False   \n",
      "\n",
      "       ToiletNote  SharpsDisposal  DrinkingWater SanitaryDisposal  \\\n",
      "0             NaN            True           True             True   \n",
      "1             NaN            True           True             True   \n",
      "2             NaN            True           True             True   \n",
      "3             NaN            True          False             True   \n",
      "4             NaN            True           True             True   \n",
      "...           ...             ...            ...              ...   \n",
      "23658         NaN           False          False            False   \n",
      "23659         NaN            True          False            False   \n",
      "23660         NaN            True          False             True   \n",
      "23661         NaN           False          False            False   \n",
      "23662         NaN           False          False            False   \n",
      "\n",
      "       MensPadDisposal  Shower  \n",
      "0                False   False  \n",
      "1                False   False  \n",
      "2                False    True  \n",
      "3                False   False  \n",
      "4                False   False  \n",
      "...                ...     ...  \n",
      "23658            False   False  \n",
      "23659            False   False  \n",
      "23660            False   False  \n",
      "23661            False   False  \n",
      "23662            False   False  \n",
      "\n",
      "[23663 rows x 47 columns]\n"
     ]
    }
   ],
   "source": [
    "data = pd.read_csv(r'C:\\Users\\PC\\Downloads/dataset.csv');\n",
    "print(data)"
   ]
  },
  {
   "cell_type": "code",
   "execution_count": null,
   "id": "54136802-7999-48c1-93fe-5551c5e9b162",
   "metadata": {},
   "outputs": [],
   "source": []
  }
 ],
 "metadata": {
  "kernelspec": {
   "display_name": "Python 3 (ipykernel)",
   "language": "python",
   "name": "python3"
  },
  "language_info": {
   "codemirror_mode": {
    "name": "ipython",
    "version": 3
   },
   "file_extension": ".py",
   "mimetype": "text/x-python",
   "name": "python",
   "nbconvert_exporter": "python",
   "pygments_lexer": "ipython3",
   "version": "3.10.14"
  }
 },
 "nbformat": 4,
 "nbformat_minor": 5
}
